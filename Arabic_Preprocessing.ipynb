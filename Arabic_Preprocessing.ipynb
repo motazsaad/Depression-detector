{
 "cells": [
  {
   "cell_type": "code",
   "execution_count": null,
   "metadata": {
    "scrolled": true
   },
   "outputs": [],
   "source": [
    "import pandas as pd\n",
    "#load Dataset\n",
    "data=pd.read_csv('dataset.csv', encoding='utf-8')\n",
    "\n",
    "# Print Shape of dataset\n",
    "print('Shape of dataset ',data.shape)\n",
    "# Print Columns\n",
    "print(data.columns)\n",
    "# Print dataframe\n",
    "data"
   ]
  },
  {
   "cell_type": "code",
   "execution_count": null,
   "metadata": {
    "scrolled": true
   },
   "outputs": [],
   "source": [
    "#pre_processing the text column\n",
    "data['Tweets'] = data['Tweets'].apply(lambda x:pre_processing(x))\n",
    "data"
   ]
  },
  {
   "cell_type": "code",
   "execution_count": null,
   "metadata": {
    "scrolled": true
   },
   "outputs": [],
   "source": [
    "#write the dataframe into csv file\n",
    "data.to_csv('Clean.csv',index=False, encoding= 'utf-8-sig')"
   ]
  },
  {
   "cell_type": "markdown",
   "metadata": {},
   "source": [
    "# PreProcessing"
   ]
  },
  {
   "cell_type": "code",
   "execution_count": null,
   "metadata": {
    "scrolled": true
   },
   "outputs": [],
   "source": [
    "\n",
    "def pre_processing(text):\n",
    "#Normalization \n",
    " text = normalization(text)\n",
    "#stop words removal\n",
    " text = stop_word_removal(text)\n",
    "#Cleaning\n",
    " text = cleaning(text)\n",
    " return text \n"
   ]
  },
  {
   "cell_type": "code",
   "execution_count": null,
   "metadata": {},
   "outputs": [],
   "source": [
    "from nltk.corpus import stopwords\n",
    "import pyarabic.araby as araby\n",
    "def stop_word_removal(text):\n",
    " stop_words = set(stopwords.words(\"arabic\"))\n",
    " words = araby.tokenize(text)\n",
    " text = \" \".join([w for w in words if not w in stop_words])\n",
    " return text"
   ]
  },
  {
   "cell_type": "code",
   "execution_count": null,
   "metadata": {
    "scrolled": true
   },
   "outputs": [],
   "source": [
    "import re \n",
    "def cleaning(text):\n",
    "    \n",
    " Arabic_numbers = ['٤','١','٢','٣','٥','٦','٧','٨','٩']\n",
    " special_character = ['؟','،','?',',','!','.',':','\"','\"\"','‘‘','‘','؛',\n",
    "                      '@','#','$','%','^','&','*','()',')','(','\\\\','/','((', '_', '\"','\"', '…']\n",
    "    \n",
    " emoticons = [':-)', ':)', ';)', ':o)',':]', ':3', ':c)', ':>', '=]', '8)', '=)', ':}',\n",
    "               ':^)', ':-D', ':D', '8-D', '8D', 'x-D', 'xD', 'X-D', 'XD', '=-D', '=D'':L',\n",
    "               ':-/', '>:/', ':S', '>:[',':@',':(','>.<',';(',':c', ':{',':<',':\")','):',':-[', ':-<',\n",
    "               ':p', '=p', ':-b', ':b', '>:)', '>;)', '>:-)','X-P','x-p', 'xp', '…']\n",
    "#remove emojis\n",
    " text= remove_emoji(text)\n",
    "    \n",
    "#replace special characters with whitespaces \n",
    " for word in range(0, len(special_character)):\n",
    "     text = text.replace(special_character[word], '') \n",
    "    \n",
    "#replace emiticons with whitespaces \n",
    " for word in range(0, len(emoticons)):\n",
    "     text = text.replace(emoticons[word], '') \n",
    "    \n",
    "#replace  arabic numbers with whitespaces \n",
    " for word in range(0, len(Arabic_numbers)):\n",
    "     text = text.replace(Arabic_numbers[word], '') \n",
    "    \n",
    "#remove english words letters and numbers\n",
    " text = re.sub(r'[0-9a-zA-Z]+',' ', text)\n",
    "\n",
    " return text\n"
   ]
  },
  {
   "cell_type": "code",
   "execution_count": null,
   "metadata": {},
   "outputs": [],
   "source": [
    "import emoji\n",
    "def remove_emoji(text):\n",
    "    return emoji.get_emoji_regexp().sub(u'', text)"
   ]
  },
  {
   "cell_type": "code",
   "execution_count": null,
   "metadata": {},
   "outputs": [],
   "source": [
    "\n",
    "import pyarabic.araby as araby\n",
    "def normalization(text):\n",
    "#replace Ta'a and Hamza'a and Ya'a\n",
    " text = re.sub(\"[إأٱآا]\", \"ا\", text)\n",
    " text = re.sub(\"ى\", \"ي\", text)\n",
    " text = re.sub(\"ة\", \"ه\", text)\n",
    "#remove repeated characters \n",
    " text = re.sub(r'(.)\\1+', r'\\1', text)\n",
    "#remove extra whitespace\n",
    " text = re.sub('\\s+', ' ', text)   \n",
    "#remove tashkeel\n",
    " text = araby.strip_tashkeel(text)\n",
    "#remove tatweel\n",
    " text = araby.strip_tatweel(text)\n",
    " return text"
   ]
  }
 ],
 "metadata": {
  "kernelspec": {
   "display_name": "Python 3",
   "language": "python",
   "name": "python3"
  },
  "language_info": {
   "codemirror_mode": {
    "name": "ipython",
    "version": 3
   },
   "file_extension": ".py",
   "mimetype": "text/x-python",
   "name": "python",
   "nbconvert_exporter": "python",
   "pygments_lexer": "ipython3",
   "version": "3.7.9"
  }
 },
 "nbformat": 4,
 "nbformat_minor": 2
}
